{
 "cells": [
  {
   "cell_type": "markdown",
   "metadata": {},
   "source": [
    "# 二項定理パスカルの三角形"
   ]
  },
  {
   "cell_type": "code",
   "execution_count": 4,
   "metadata": {},
   "outputs": [],
   "source": [
    "def generate_pascals_triangle(n):\n",
    "    triangle = []\n",
    "    for i in range(n):\n",
    "        row = [1] * (i + 1)\n",
    "        for j in range(1, i):\n",
    "            row[j] = triangle[i - 1][j - 1] + triangle[i - 1][j]\n",
    "        triangle.append(row)\n",
    "    return triangle"
   ]
  },
  {
   "cell_type": "code",
   "execution_count": 5,
   "metadata": {},
   "outputs": [],
   "source": [
    "def print_pascals_triangle(triangle):\n",
    "    max_width = len(\" \".join(map(str, triangle[-1])))\n",
    "    for row in triangle:\n",
    "        row_str = \" \".join(map(str, row))\n",
    "        print(row_str.center(max_width))"
   ]
  },
  {
   "cell_type": "code",
   "execution_count": 6,
   "metadata": {},
   "outputs": [
    {
     "name": "stdout",
     "output_type": "stream",
     "text": [
      "[[1], [1, 1], [1, 2, 1], [1, 3, 3, 1], [1, 4, 6, 4, 1], [1, 5, 10, 10, 5, 1], [1, 6, 15, 20, 15, 6, 1], [1, 7, 21, 35, 35, 21, 7, 1], [1, 8, 28, 56, 70, 56, 28, 8, 1], [1, 9, 36, 84, 126, 126, 84, 36, 9, 1], [1, 10, 45, 120, 210, 252, 210, 120, 45, 10, 1]]\n",
      "                 1                 \n",
      "                1 1                \n",
      "               1 2 1               \n",
      "              1 3 3 1              \n",
      "             1 4 6 4 1             \n",
      "           1 5 10 10 5 1           \n",
      "          1 6 15 20 15 6 1         \n",
      "        1 7 21 35 35 21 7 1        \n",
      "       1 8 28 56 70 56 28 8 1      \n",
      "    1 9 36 84 126 126 84 36 9 1    \n",
      "1 10 45 120 210 252 210 120 45 10 1\n"
     ]
    }
   ],
   "source": [
    "# 例: n段のパスカルの三角形を生成して表示する\n",
    "n = 11\n",
    "triangle = generate_pascals_triangle(n)\n",
    "print(triangle)\n",
    "print_pascals_triangle(triangle)"
   ]
  },
  {
   "cell_type": "code",
   "execution_count": null,
   "metadata": {},
   "outputs": [],
   "source": []
  }
 ],
 "metadata": {
  "kernelspec": {
   "display_name": ".venv",
   "language": "python",
   "name": "python3"
  },
  "language_info": {
   "codemirror_mode": {
    "name": "ipython",
    "version": 3
   },
   "file_extension": ".py",
   "mimetype": "text/x-python",
   "name": "python",
   "nbconvert_exporter": "python",
   "pygments_lexer": "ipython3",
   "version": "3.12.6"
  }
 },
 "nbformat": 4,
 "nbformat_minor": 2
}
