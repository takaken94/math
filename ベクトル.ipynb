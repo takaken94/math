{
 "cells": [
  {
   "cell_type": "markdown",
   "id": "a3947ff7-3ad5-43be-bd22-2600fd6eb959",
   "metadata": {},
   "source": [
    "# ベクトル"
   ]
  },
  {
   "cell_type": "code",
   "execution_count": 1,
   "id": "d3366140",
   "metadata": {},
   "outputs": [],
   "source": [
    "import numpy as np"
   ]
  },
  {
   "cell_type": "code",
   "execution_count": 9,
   "id": "82b04b74",
   "metadata": {},
   "outputs": [],
   "source": [
    "a = np.array([1, 2])\n",
    "b = np.array([3, 4])"
   ]
  },
  {
   "cell_type": "code",
   "execution_count": 10,
   "id": "58ac2b32-d260-4e5e-a387-6371d8d50259",
   "metadata": {},
   "outputs": [
    {
     "name": "stdout",
     "output_type": "stream",
     "text": [
      "[1 2]\n",
      "[3 4]\n"
     ]
    }
   ],
   "source": [
    "print(a)\n",
    "print(b)"
   ]
  },
  {
   "cell_type": "code",
   "execution_count": 11,
   "id": "4bbd43be",
   "metadata": {},
   "outputs": [
    {
     "name": "stdout",
     "output_type": "stream",
     "text": [
      "[4 6]\n",
      "[-2 -2]\n"
     ]
    }
   ],
   "source": [
    "print(a + b)\n",
    "print(a - b)"
   ]
  },
  {
   "cell_type": "markdown",
   "id": "8becbcf9-b6d5-473c-8758-c7be78d8874c",
   "metadata": {},
   "source": [
    "## ベクトルの内積"
   ]
  },
  {
   "cell_type": "code",
   "execution_count": 12,
   "id": "9fcceec7-1f57-4843-ac91-a47cb38540f6",
   "metadata": {},
   "outputs": [
    {
     "data": {
      "text/plain": [
       "np.int64(11)"
      ]
     },
     "execution_count": 12,
     "metadata": {},
     "output_type": "execute_result"
    }
   ],
   "source": [
    "np.dot(a, b)"
   ]
  },
  {
   "cell_type": "code",
   "execution_count": null,
   "id": "e459fb09-4373-4b6b-91bf-830ba8d65e0e",
   "metadata": {},
   "outputs": [],
   "source": []
  }
 ],
 "metadata": {
  "kernelspec": {
   "display_name": "Python 3 (ipykernel)",
   "language": "python",
   "name": "python3"
  },
  "language_info": {
   "codemirror_mode": {
    "name": "ipython",
    "version": 3
   },
   "file_extension": ".py",
   "mimetype": "text/x-python",
   "name": "python",
   "nbconvert_exporter": "python",
   "pygments_lexer": "ipython3",
   "version": "3.12.4"
  }
 },
 "nbformat": 4,
 "nbformat_minor": 5
}
