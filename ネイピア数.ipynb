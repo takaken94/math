{
 "cells": [
  {
   "cell_type": "code",
   "execution_count": 1,
   "metadata": {},
   "outputs": [],
   "source": [
    "from sympy import *"
   ]
  },
  {
   "cell_type": "code",
   "execution_count": 2,
   "metadata": {},
   "outputs": [
    {
     "name": "stdout",
     "output_type": "stream",
     "text": [
      "x = 10: (1 + 1/x)**x = (1 + 1/10)**10 = 2.5937424601000023\n",
      "x = 100: (1 + 1/x)**x = (1 + 1/100)**100 = 2.7048138294215285\n",
      "x = 1000: (1 + 1/x)**x = (1 + 1/1000)**1000 = 2.7169239322355936\n",
      "x = 10000: (1 + 1/x)**x = (1 + 1/10000)**10000 = 2.7181459268249255\n",
      "x = 100000: (1 + 1/x)**x = (1 + 1/100000)**100000 = 2.7182682371922975\n",
      "x = 1000000: (1 + 1/x)**x = (1 + 1/1000000)**1000000 = 2.7182804690957534\n",
      "x = 10000000: (1 + 1/x)**x = (1 + 1/10000000)**10000000 = 2.7182816941320818\n"
     ]
    }
   ],
   "source": [
    "# x の値のリスト\n",
    "x_val = [10, 100, 1000, 10000, 100000, 1000000, 10000000]\n",
    "# 各 x の値に対して (1 + 1/x)**x を計算\n",
    "for x in x_val:\n",
    "    result = (1 + 1/x)**x\n",
    "    print(f\"x = {x}: (1 + 1/x)**x = (1 + 1/{x})**{x} = {result}\")"
   ]
  },
  {
   "cell_type": "code",
   "execution_count": 3,
   "metadata": {},
   "outputs": [
    {
     "name": "stdout",
     "output_type": "stream",
     "text": [
      "x = -10: (1 + 1/x)**x = (1 + 1/-10)**-10 = 2.867971990792441\n",
      "x = -100: (1 + 1/x)**x = (1 + 1/-100)**-100 = 2.7319990264290284\n",
      "x = -1000: (1 + 1/x)**x = (1 + 1/-1000)**-1000 = 2.719642216442853\n",
      "x = -10000: (1 + 1/x)**x = (1 + 1/-10000)**-10000 = 2.71841775501015\n",
      "x = -100000: (1 + 1/x)**x = (1 + 1/-100000)**-100000 = 2.7182954199804055\n",
      "x = -1000000: (1 + 1/x)**x = (1 + 1/-1000000)**-1000000 = 2.7182831876793716\n",
      "x = -10000000: (1 + 1/x)**x = (1 + 1/-10000000)**-10000000 = 2.7182819629423656\n"
     ]
    }
   ],
   "source": [
    "# x の値のリスト\n",
    "x_val = [-10, -100, -1000, -10000, -100000, -1000000, -10000000]\n",
    "# 各 x の値に対して (1 + 1/x)**x を計算\n",
    "for x in x_val:\n",
    "    result = (1 + 1/x)**x\n",
    "    print(f\"x = {x}: (1 + 1/x)**x = (1 + 1/{x})**{x} = {result}\")"
   ]
  },
  {
   "cell_type": "code",
   "execution_count": null,
   "metadata": {},
   "outputs": [],
   "source": []
  }
 ],
 "metadata": {
  "kernelspec": {
   "display_name": ".venv",
   "language": "python",
   "name": "python3"
  },
  "language_info": {
   "codemirror_mode": {
    "name": "ipython",
    "version": 3
   },
   "file_extension": ".py",
   "mimetype": "text/x-python",
   "name": "python",
   "nbconvert_exporter": "python",
   "pygments_lexer": "ipython3",
   "version": "3.12.6"
  }
 },
 "nbformat": 4,
 "nbformat_minor": 2
}
