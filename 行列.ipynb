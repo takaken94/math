{
 "cells": [
  {
   "cell_type": "markdown",
   "id": "d6299eff",
   "metadata": {},
   "source": [
    "# 行列"
   ]
  },
  {
   "cell_type": "markdown",
   "id": "67a69840",
   "metadata": {},
   "source": [
    "## NumPy ndarray"
   ]
  },
  {
   "cell_type": "code",
   "execution_count": 1,
   "id": "76f14278",
   "metadata": {},
   "outputs": [],
   "source": [
    "import numpy as np"
   ]
  },
  {
   "cell_type": "code",
   "execution_count": 2,
   "id": "85e9af0c",
   "metadata": {},
   "outputs": [],
   "source": [
    "A = np.array([[1, 4, 7],\n",
    "              [2, 5, 8],\n",
    "              [3, 6, 9]])"
   ]
  },
  {
   "cell_type": "code",
   "execution_count": 3,
   "id": "f5477e35-ae98-4c05-b13f-dca6102163b6",
   "metadata": {},
   "outputs": [
    {
     "data": {
      "text/plain": [
       "array([[1, 4, 7],\n",
       "       [2, 5, 8],\n",
       "       [3, 6, 9]])"
      ]
     },
     "execution_count": 3,
     "metadata": {},
     "output_type": "execute_result"
    }
   ],
   "source": [
    "A"
   ]
  },
  {
   "cell_type": "code",
   "execution_count": 4,
   "id": "f711eecb-c323-4dea-b1a9-179a73effb3f",
   "metadata": {},
   "outputs": [
    {
     "name": "stdout",
     "output_type": "stream",
     "text": [
      "[[1 4 7]\n",
      " [2 5 8]\n",
      " [3 6 9]]\n",
      "(3, 3)\n",
      "2\n"
     ]
    }
   ],
   "source": [
    "print(A)\n",
    "print(A.shape)\n",
    "print(A.ndim)"
   ]
  },
  {
   "cell_type": "markdown",
   "id": "8eddf1a4",
   "metadata": {},
   "source": [
    "## SymPy Matrix"
   ]
  },
  {
   "cell_type": "code",
   "execution_count": 5,
   "id": "db472c17-fdff-4d4c-a131-0124a60719c8",
   "metadata": {},
   "outputs": [],
   "source": [
    "import sympy as sy"
   ]
  },
  {
   "cell_type": "code",
   "execution_count": 6,
   "id": "00492bad",
   "metadata": {},
   "outputs": [],
   "source": [
    "B = sy.Matrix([[1, 4, 7],\n",
    "                 [2, 5, 8],\n",
    "                 [3, 6, 9]])"
   ]
  },
  {
   "cell_type": "code",
   "execution_count": 7,
   "id": "52294fff-d252-47fd-b349-e26eaff8eebc",
   "metadata": {},
   "outputs": [
    {
     "data": {
      "text/latex": [
       "$\\displaystyle \\left[\\begin{matrix}1 & 4 & 7\\\\2 & 5 & 8\\\\3 & 6 & 9\\end{matrix}\\right]$"
      ],
      "text/plain": [
       "Matrix([\n",
       "[1, 4, 7],\n",
       "[2, 5, 8],\n",
       "[3, 6, 9]])"
      ]
     },
     "execution_count": 7,
     "metadata": {},
     "output_type": "execute_result"
    }
   ],
   "source": [
    "B"
   ]
  },
  {
   "cell_type": "code",
   "execution_count": 8,
   "id": "91bcefc5",
   "metadata": {},
   "outputs": [
    {
     "name": "stdout",
     "output_type": "stream",
     "text": [
      "Matrix([[1, 4, 7], [2, 5, 8], [3, 6, 9]])\n",
      "(3, 3)\n"
     ]
    }
   ],
   "source": [
    "print(B)\n",
    "print(B.shape)"
   ]
  }
 ],
 "metadata": {
  "kernelspec": {
   "display_name": "Python 3 (ipykernel)",
   "language": "python",
   "name": "python3"
  },
  "language_info": {
   "codemirror_mode": {
    "name": "ipython",
    "version": 3
   },
   "file_extension": ".py",
   "mimetype": "text/x-python",
   "name": "python",
   "nbconvert_exporter": "python",
   "pygments_lexer": "ipython3",
   "version": "3.12.4"
  }
 },
 "nbformat": 4,
 "nbformat_minor": 5
}
